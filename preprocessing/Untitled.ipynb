{
 "cells": [
  {
   "cell_type": "code",
   "execution_count": null,
   "metadata": {
    "collapsed": true
   },
   "outputs": [],
   "source": [
    "favourite_shows = [\"The Big C\", \"Charmed\", \"Chuck\", \"Crossing Jordan\", \"Dead Like Me\", \"Desperate Housewives\", \"Drop Dead Diva\", \"ER\", \"Everybody Love Ray\", \"Friends\", \"Ghost Whisperer\", \"Gilmore Girls\", \"The Good Wife\", \"Happy Endings\", \"La Femme Nikita\", \"Seinfeld\", \"Sex and the City\", \"Veronica Mars\", \"Web Therapy\", \"Will and Grace\"]"
   ]
  }
 ],
 "metadata": {
  "kernelspec": {
   "display_name": "Python 3",
   "language": "python",
   "name": "python3"
  },
  "language_info": {
   "codemirror_mode": {
    "name": "ipython",
    "version": 3
   },
   "file_extension": ".py",
   "mimetype": "text/x-python",
   "name": "python",
   "nbconvert_exporter": "python",
   "pygments_lexer": "ipython3",
   "version": "3.5.2"
  }
 },
 "nbformat": 4,
 "nbformat_minor": 0
}
